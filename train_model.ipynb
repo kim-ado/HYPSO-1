{
 "cells": [
  {
   "cell_type": "code",
   "execution_count": null,
   "metadata": {},
   "outputs": [],
   "source": [
    "# imports\n",
    "import baseline_model as baseline"
   ]
  },
  {
   "cell_type": "code",
   "execution_count": null,
   "metadata": {},
   "outputs": [],
   "source": [
    "bm = baseline.EDSRModel()\n",
    "model = bm.make_model(num_filters=64, num_of_residual_blocks=16)\n",
    "\n",
    "# Using adam optimizer with initial learning rate as 1e-4, changing learning rate after 5000 steps to 5e-5\n",
    "optim_edsr = keras.optimizers.Adam(\n",
    "    learning_rate=keras.optimizers.schedules.PiecewiseConstantDecay(\n",
    "        boundaries=[5000], values=[1e-4, 5e-5]\n",
    "    )\n",
    ")\n",
    "# Compiling model with loss as mean absolute error(L1 Loss) and metric as psnr\n",
    "model.compile(optimizer=optim_edsr, loss=\"mae\", metrics=[PSNR])\n",
    "# Training for more epochs will improve results\n",
    "model.fit(train_ds, epochs=100, steps_per_epoch=200, validation_data=val_ds)"
   ]
  }
 ],
 "metadata": {
  "language_info": {
   "name": "python"
  }
 },
 "nbformat": 4,
 "nbformat_minor": 2
}
