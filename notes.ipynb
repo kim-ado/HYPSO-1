{
 "cells": [
  {
   "cell_type": "code",
   "execution_count": null,
   "metadata": {},
   "outputs": [],
   "source": [
    "import sharp\n",
    "import h1data\n",
    "import bq\n",
    "\n",
    "import kaleido\n",
    "\n",
    "import os\n",
    "\n",
    "import matplotlib.pyplot as plt\n",
    "import numpy as np\n",
    "import spectral.io.envi as envi"
   ]
  },
  {
   "cell_type": "code",
   "execution_count": null,
   "metadata": {},
   "outputs": [],
   "source": [
    "datapath = os.path.join(os.getcwd(),\"data\")"
   ]
  },
  {
   "cell_type": "code",
   "execution_count": null,
   "metadata": {},
   "outputs": [],
   "source": [
    "h = h1data.h1data(\"data/20221107_CaptureDL_sudan_tl_2022_11_04T08_31_09\")"
   ]
  },
  {
   "cell_type": "code",
   "execution_count": null,
   "metadata": {
    "scrolled": true
   },
   "outputs": [],
   "source": [
    "h.show_l1a_cube()"
   ]
  },
  {
   "cell_type": "code",
   "execution_count": null,
   "metadata": {},
   "outputs": [],
   "source": [
    "h.show_raw_cube()"
   ]
  },
  {
   "cell_type": "code",
   "execution_count": null,
   "metadata": {
    "scrolled": true
   },
   "outputs": [],
   "source": [
    "s_list = []\n",
    "brisque_scores = []\n",
    "titles = []\n",
    "for dataset in os.listdir(datapath):\n",
    "    full_path = os.path.join(datapath,dataset)\n",
    "    \n",
    "    if not \"CaptureDL\" in full_path:\n",
    "        continue\n",
    "     \n",
    "    hdata = h1data.h1data(full_path)\n",
    "    sdata = sharp.sharp.fromh1data(hdata)\n",
    "    s_list.append(sdata)\n",
    "    \n",
    "    sdata.evaluate()\n",
    "    \n",
    "    brisque_score = sdata.brisque[\"initial\"]    \n",
    "    brisque_scores.append(brisque_score)\n",
    "    \n",
    "    title = str()\n",
    "    title = title.join([full_path.split(\"/\")[-1].split(\"_\")[2], \" \", full_path.split(\"/\")[-1].split(\"_\")[0]])\n",
    "    print(title)\n",
    "    titles.append(title)\n",
    "    \n",
    "brisque_scores = np.array(brisque_scores)\n",
    "    "
   ]
  },
  {
   "cell_type": "code",
   "execution_count": null,
   "metadata": {},
   "outputs": [],
   "source": [
    "import importlib\n",
    "importlib.reload(bq)\n",
    "\n",
    "#brisque_scores = []\n",
    "#for ind, sobj in enumerate(sdata):\n",
    "#    print(f\"Scene: {titles[ind]}, Progress: {ind}/{len(sdata)}\")\n",
    "#    sobj.evaluate()\n",
    "\n",
    "brisque_scores = np.array(brisque_scores)\n",
    "\n",
    "#bq.plotScoreStatistics(hdata.spec_coefficients[10:], brisque_scores[:,10:] ,0.01)\n",
    "bq.plotScoreStatistics(hdata.spec_coefficients[10:], brisque_scores[[0,1,2,4,5,6,7,8],10:] ,0.02)\n",
    "bq.plotAllScores(hdata.spec_coefficients[10:], brisque_scores[:,10:] , titles)"
   ]
  },
  {
   "cell_type": "code",
   "execution_count": null,
   "metadata": {},
   "outputs": [],
   "source": [
    "import importlib\n",
    "importlib.reload(sharp)\n",
    "from plotly.subplots import make_subplots\n",
    "import plotly.graph_objects as go\n",
    "import plotly.express as px\n",
    "\n",
    "fig = make_subplots(rows=len(s_list), cols=1,\n",
    "                   subplot_titles = titles)\n",
    "\n",
    "for i, sharp_obj in enumerate(s_list):\n",
    "    figure = px.imshow(np.rot90(sharp_obj.initial_cube[:,:,sharp_obj.sharpest_band_index]))\n",
    "    for trace in range(len(figure[\"data\"])):\n",
    "        fig.append_trace(figure[\"data\"][trace], row=1+i, col=1)\n",
    "\n",
    "fig.update_layout(\n",
    "    autosize=False,\n",
    "    minreducedheight=i*200,\n",
    "    height=i*250,\n",
    ")\n",
    "    \n",
    "fig.show()\n",
    "#sharp.plot_sharp_list(s_list)\n",
    "#fig.write_image(\"fig/all.pdf\")"
   ]
  },
  {
   "cell_type": "code",
   "execution_count": null,
   "metadata": {},
   "outputs": [],
   "source": [
    "from numpy.linalg import svd\n",
    "\n",
    "image = sdata.initial_cube\n",
    "sh_ind = 47\n",
    "\n",
    "img_variable_form = np.reshape(image, (image.shape[0] * image.shape[1], image.shape[2]))\n",
    "U, S, Vh = svd(img_variable_form, full_matrices=False)\n",
    "principal_components = np.dot(U, np.diag(S))\n",
    "\n",
    "component_cube = np.reshape(principal_components, (image.shape[0], image.shape[1], image.shape[2]))\n"
   ]
  },
  {
   "cell_type": "code",
   "execution_count": null,
   "metadata": {},
   "outputs": [],
   "source": [
    "from skimage.exposure import match_histograms\n",
    "\n",
    "matched_sharpest_band = match_histograms(image[:,:,47], component_cube[:,:,0])\n",
    "\n",
    "fig = px.imshow(matched_sharpest_band - component_cube[:,:,0])\n",
    "fig.show()\n",
    "\n"
   ]
  },
  {
   "cell_type": "code",
   "execution_count": null,
   "metadata": {},
   "outputs": [],
   "source": [
    "fixed_component_cube = component_cube\n",
    "fixed_component_cube[:,:,0] = matched_sharpest_band\n",
    "fixed_cc_variable_form = np.reshape(fixed_component_cube, (image.shape[0] * image.shape[1], image.shape[2]))\n",
    "\n",
    "sharpend_variable_form = np.dot(fixed_cc_variable_form, Vh)\n",
    "sharpend_cube = np.reshape(sharpend_variable_form, (image.shape[0], image.shape[1], image.shape[2]))"
   ]
  },
  {
   "cell_type": "code",
   "execution_count": null,
   "metadata": {},
   "outputs": [],
   "source": [
    "sharpend_bq = bq.scoreCube(sharpend_cube)"
   ]
  },
  {
   "cell_type": "code",
   "execution_count": null,
   "metadata": {},
   "outputs": [],
   "source": [
    "fig = go.Figure([\n",
    "    go.Scatter(\n",
    "    name=\"sharpend\",\n",
    "    x=hdata.spec_coefficients[10:],\n",
    "    y=sharpend_bq[10:],\n",
    "    mode=\"lines\"\n",
    "    ),\n",
    "    go.Scatter(\n",
    "    name=\"original\",\n",
    "    x=hdata.spec_coefficients[10:],\n",
    "    y=brisque_score[10:],\n",
    "    mode=\"lines\"\n",
    "    ),\n",
    "])\n",
    "\n",
    "fig.show()\n",
    "fig.write_html(\"fig/initial_result.html\")\n"
   ]
  },
  {
   "cell_type": "code",
   "execution_count": null,
   "metadata": {},
   "outputs": [],
   "source": [
    "bq_scores_original = []\n",
    "bq_scores_sharpend = []\n",
    "for ind, sobj in enumerate(s_list):\n",
    "    print(f\"Scene: {titles[ind]}, Progress: {ind}/{len(s_list)}\")\n",
    "    sobj.sharpen()\n",
    "    sobj.evaluate()\n",
    "    \n",
    "    bq_original = sobj.brisque[\"initial\"]    \n",
    "    bq_scores_original.append(bq_original)\n",
    "    \n",
    "    bq_sharpend = sobj.brisque[\"sharpend\"]    \n",
    "    bq_scores_sharpend.append(bq_sharpend)\n",
    "        \n",
    "bq_scores_original = np.array(bq_scores_original)\n",
    "bq_scores_sharpend = np.array(bq_scores_sharpend)"
   ]
  },
  {
   "cell_type": "code",
   "execution_count": null,
   "metadata": {},
   "outputs": [],
   "source": [
    "fig = go.Figure([\n",
    "    go.scatter(\n",
    "    \n",
    "    )\n",
    "])"
   ]
  }
 ],
 "metadata": {
  "kernelspec": {
   "display_name": "Python 3 (ipykernel)",
   "language": "python",
   "name": "python3"
  },
  "language_info": {
   "codemirror_mode": {
    "name": "ipython",
    "version": 3
   },
   "file_extension": ".py",
   "mimetype": "text/x-python",
   "name": "python",
   "nbconvert_exporter": "python",
   "pygments_lexer": "ipython3",
   "version": "3.9.15"
  },
  "vscode": {
   "interpreter": {
    "hash": "31f2aee4e71d21fbe5cf8b01ff0e069b9275f58929596ceb00d14d90e3e16cd6"
   }
  }
 },
 "nbformat": 4,
 "nbformat_minor": 2
}
