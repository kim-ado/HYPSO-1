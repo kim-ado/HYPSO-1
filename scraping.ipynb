{
 "cells": [
  {
   "cell_type": "code",
   "execution_count": 1,
   "metadata": {},
   "outputs": [
    {
     "ename": "ModuleNotFoundError",
     "evalue": "No module named 'cv2'",
     "output_type": "error",
     "traceback": [
      "\u001b[1;31m---------------------------------------------------------------------------\u001b[0m",
      "\u001b[1;31mModuleNotFoundError\u001b[0m                       Traceback (most recent call last)",
      "Cell \u001b[1;32mIn[1], line 1\u001b[0m\n\u001b[1;32m----> 1\u001b[0m \u001b[38;5;28;01mimport\u001b[39;00m \u001b[38;5;21;01mblur\u001b[39;00m\n",
      "File \u001b[1;32mc:\\Users\\Kim\\Documents\\master\\HYPSO-1\\blur.py:2\u001b[0m\n\u001b[0;32m      1\u001b[0m \u001b[38;5;28;01mimport\u001b[39;00m \u001b[38;5;21;01mrequests\u001b[39;00m\n\u001b[1;32m----> 2\u001b[0m \u001b[38;5;28;01mimport\u001b[39;00m \u001b[38;5;21;01mcv2\u001b[39;00m\n\u001b[0;32m      3\u001b[0m \u001b[38;5;28;01mimport\u001b[39;00m \u001b[38;5;21;01mnumpy\u001b[39;00m \u001b[38;5;28;01mas\u001b[39;00m \u001b[38;5;21;01mnp\u001b[39;00m\n\u001b[0;32m      4\u001b[0m \u001b[38;5;28;01mimport\u001b[39;00m \u001b[38;5;21;01mos\u001b[39;00m\n",
      "\u001b[1;31mModuleNotFoundError\u001b[0m: No module named 'cv2'"
     ]
    }
   ],
   "source": [
    "import requests\n",
    "from bs4 import BeautifulSoup\n",
    "import os\n"
   ]
  },
  {
   "cell_type": "code",
   "execution_count": null,
   "metadata": {},
   "outputs": [],
   "source": [
    "\n",
    "folder_name = \"hico_data\"\n",
    "\n",
    "if not os.path.exists(folder_name):\n",
    "    os.makedirs(folder_name)\n"
   ]
  },
  {
   "cell_type": "code",
   "execution_count": null,
   "metadata": {},
   "outputs": [],
   "source": [
    "\n",
    "\n",
    "base_url = \"https://oceandata.sci.gsfc.nasa.gov\"\n",
    "main_url = \"https://oceandata.sci.gsfc.nasa.gov/directdataaccess/Level-1B/HICO/2014\"\n",
    "num_subdirs = 5  # Number of top subdirectories to explore\n",
    "\n",
    "# Send a GET request to the main URL\n",
    "response = requests.get(main_url)\n",
    "\n",
    "# Create a BeautifulSoup object to parse the HTML content\n",
    "soup = BeautifulSoup(response.content, \"html.parser\")\n",
    "\n",
    "# Find all the links to the subdirectories\n",
    "subdir_links = [link[\"href\"] for link in soup.find_all(\"a\") if link[\"href\"].endswith(\"/\")]\n",
    "\n",
    "# Initialize an empty list to store the download links\n",
    "download_links = []\n",
    "\n",
    "# Iterate over the top num_subdirs subdirectories\n",
    "for subdir_link in subdir_links[:num_subdirs]:\n",
    "    subdir_url = base_url + subdir_link\n",
    "    \n",
    "    # Send a GET request to the subdirectory URL\n",
    "    subdir_response = requests.get(subdir_url)\n",
    "    \n",
    "    # Create a BeautifulSoup object to parse the HTML content of the subdirectory\n",
    "    subdir_soup = BeautifulSoup(subdir_response.content, \"html.parser\")\n",
    "    \n",
    "    # Find all the links to the .bz2 files in the subdirectory\n",
    "    file_links = [link[\"href\"] for link in subdir_soup.find_all(\"a\") if link[\"href\"].endswith(\".bz2\")]\n",
    "    \n",
    "    # Construct the full download URLs and append them to the download_links list\n",
    "    download_links.extend([base_url + \"/getfile/\" + link for link in file_links])\n",
    "\n",
    "# Save the download links to a text file\n",
    "with open(folder_name, \"w\") as file:\n",
    "    file.write(\"\\n\".join(download_links))\n",
    "\n",
    "print(\"Download links saved to\" +  folder_name+\".txt\")\n"
   ]
  },
  {
   "cell_type": "code",
   "execution_count": null,
   "metadata": {},
   "outputs": [],
   "source": []
  }
 ],
 "metadata": {
  "kernelspec": {
   "display_name": "Python 3",
   "language": "python",
   "name": "python3"
  },
  "language_info": {
   "codemirror_mode": {
    "name": "ipython",
    "version": 3
   },
   "file_extension": ".py",
   "mimetype": "text/x-python",
   "name": "python",
   "nbconvert_exporter": "python",
   "pygments_lexer": "ipython3",
   "version": "3.12.1"
  }
 },
 "nbformat": 4,
 "nbformat_minor": 2
}
