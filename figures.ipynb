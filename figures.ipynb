{
 "cells": [
  {
   "cell_type": "code",
   "execution_count": null,
   "metadata": {},
   "outputs": [],
   "source": [
    "import numpy as np\n",
    "import matplotlib.pyplot as plt\n",
    "\n",
    "def parabole_func(bands, blurriest_fwhm, sharpest_fwhm):\n",
    "    a = -2 / ((bands / 2) ** 2)\n",
    "    x_values = np.linspace(404, 897, bands)\n",
    "    y_values = np.where(x_values < (404 + 897) / 2,\n",
    "                        -a * (x_values - (404 + 897) / 2) ** 2 + sharpest_fwhm,\n",
    "                        -a * ((897 - x_values) - (404 + 897) / 2) ** 2 + sharpest_fwhm)\n",
    "    return x_values, y_values\n",
    "\n",
    "bands = 87\n",
    "blurriest_fwhm = 3.5\n",
    "sharpest_fwhm = 1.5\n",
    "\n",
    "x_values, y_values = parabole_func(bands, blurriest_fwhm, sharpest_fwhm)\n",
    "\n",
    "plt.plot(x_values, y_values)\n",
    "plt.xlabel('X')\n",
    "plt.ylabel('Y')\n",
    "plt.title('Parabolic Function')\n",
    "plt.grid(True)\n",
    "plt.show()\n"
   ]
  }
 ],
 "metadata": {
  "language_info": {
   "name": "python"
  }
 },
 "nbformat": 4,
 "nbformat_minor": 2
}
