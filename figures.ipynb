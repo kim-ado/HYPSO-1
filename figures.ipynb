{
 "cells": [
  {
   "cell_type": "code",
   "execution_count": null,
   "metadata": {},
   "outputs": [],
   "source": [
    "import matplotlib.pyplot as plt\n",
    "import blur\n",
    "\n",
    "# Call the parabole_func method to fill the self.desired_fwhm list\n",
    "ba = blur.blurCube()\n",
    "\n",
    "ba.get_cube()\n",
    "\n",
    "ba.read_cube()\n",
    "\n",
    "ba.parabole_func()\n",
    "\n",
    "# Create a list of band indices\n",
    "band_indices = list(range(ba.wavelengths))\n",
    "\n",
    "# Plot the desired FWHM values\n",
    "plt.plot(band_indices, ba.desired_fwhm)\n",
    "\n",
    "# Add labels and title\n",
    "plt.xlabel('Band Index')\n",
    "plt.ylabel('FWHM Spatial pixels')\n",
    "plt.title('Spatial FWHM')\n",
    "\n",
    "# Display the plot\n",
    "plt.show()\n"
   ]
  }
 ],
 "metadata": {
  "language_info": {
   "name": "python"
  }
 },
 "nbformat": 4,
 "nbformat_minor": 2
}
