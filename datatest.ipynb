{
 "cells": [
  {
   "cell_type": "code",
   "execution_count": 1,
   "metadata": {},
   "outputs": [],
   "source": [
    "import blur"
   ]
  },
  {
   "cell_type": "code",
   "execution_count": 2,
   "metadata": {},
   "outputs": [
    {
     "name": "stdout",
     "output_type": "stream",
     "text": [
      "hico_data/H2014042001439.L1B_ISS.nc\n",
      "First wavelength: 352.528\n",
      "Image data for first wavelength 352.52801513671875: <xarray.DataArray 'Lt' (scan_lines: 2000, samples: 512)>\n",
      "[1024000 values with dtype=float64]\n",
      "Dimensions without coordinates: scan_lines, samples\n",
      "Attributes:\n",
      "    units:             W/m^2/micrometer/sr\n",
      "    long_name:         HICO Top of Atmosphere\n",
      "    wavelength_units:  nanometers\n",
      "    fwhm:              [ 5.  5.  5. 10. 10. 10. 10. 10. 10. 10. 10. 10. 10. 1...\n",
      "    wavelengths:       [ 352.528    358.256    363.98398  369.712    375.44  ...\n"
     ]
    }
   ],
   "source": [
    "ba = blur.blurCube()\n",
    "\n",
    "ba.get_cube()\n",
    "\n",
    "ba.read_cube()\n"
   ]
  },
  {
   "cell_type": "code",
   "execution_count": null,
   "metadata": {},
   "outputs": [],
   "source": []
  },
  {
   "cell_type": "code",
   "execution_count": null,
   "metadata": {},
   "outputs": [],
   "source": []
  }
 ],
 "metadata": {
  "kernelspec": {
   "display_name": "finalfinal",
   "language": "python",
   "name": "finalfinal"
  },
  "language_info": {
   "codemirror_mode": {
    "name": "ipython",
    "version": 3
   },
   "file_extension": ".py",
   "mimetype": "text/x-python",
   "name": "python",
   "nbconvert_exporter": "python",
   "pygments_lexer": "ipython3",
   "version": "3.11.0"
  }
 },
 "nbformat": 4,
 "nbformat_minor": 2
}
