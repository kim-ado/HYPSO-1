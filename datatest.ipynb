{
 "cells": [
  {
   "cell_type": "code",
   "execution_count": null,
   "metadata": {},
   "outputs": [],
   "source": [
    "import requests\n",
    "import os"
   ]
  },
  {
   "cell_type": "code",
   "execution_count": null,
   "metadata": {},
   "outputs": [],
   "source": [
    "# Make folder\n",
    "\n",
    "if not os.path.exists(\"HICOdata\"):\n",
    "    os.mkdir(\"HICOdata\")"
   ]
  },
  {
   "cell_type": "code",
   "execution_count": null,
   "metadata": {},
   "outputs": [],
   "source": [
    "def get_hico_data_from_web(URL, directory, path, filename):\n",
    "    # Set the FILENAME string to the data file name, the LABEL keyword value, or any customized name. \n",
    "    result = requests.get(URL)\n",
    "    try:\n",
    "        result.raise_for_status()\n",
    "        f = open(filename,'wb')\n",
    "        f.write(result.content)\n",
    "        f.close()\n",
    "        print('contents of URL written to '+filename)\n",
    "    except:\n",
    "        print('requests.get() returned an error code '+str(result.status_code))\n",
    "    # TODO make a loop that can request download of x amount of files"
   ]
  },
  {
   "cell_type": "code",
   "execution_count": null,
   "metadata": {},
   "outputs": [],
   "source": [
    "def open_hico_data(dir):\n",
    "    for filenames in os.listdir(dir):\n",
    "        if len(dir) == 0:\n",
    "            print('Directory is empty, no data')\n",
    "            exit()"
   ]
  },
  {
   "cell_type": "code",
   "execution_count": null,
   "metadata": {},
   "outputs": [],
   "source": [
    "URL = 'https://oceandata.sci.gsfc.nasa.gov/directdataaccess/Level-1B/HICO/2014/042/'\n",
    "directory = 'cluster/home/HICOdata'"
   ]
  },
  {
   "cell_type": "code",
   "execution_count": null,
   "metadata": {},
   "outputs": [],
   "source": [
    "def blurImages():\n",
    "    "
   ]
  }
 ],
 "metadata": {
  "language_info": {
   "name": "python"
  }
 },
 "nbformat": 4,
 "nbformat_minor": 2
}
