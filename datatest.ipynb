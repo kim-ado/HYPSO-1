{
 "cells": [
  {
   "cell_type": "code",
   "execution_count": 1,
   "metadata": {},
   "outputs": [],
   "source": [
    "import blur\n",
    "import matplotlib.pyplot as plt\n",
    "%matplotlib notebook"
   ]
  },
  {
   "cell_type": "code",
   "execution_count": 2,
   "metadata": {},
   "outputs": [
    {
     "name": "stdout",
     "output_type": "stream",
     "text": [
      "File accessed:  hico_data/H2014064000912.L1B_ISS.nc\n",
      "Bands:  87\n"
     ]
    },
    {
     "ename": "ValueError",
     "evalue": "not enough values to unpack (expected 4, got 1)",
     "output_type": "error",
     "traceback": [
      "\u001b[0;31m---------------------------------------------------------------------------\u001b[0m",
      "\u001b[0;31mValueError\u001b[0m                                Traceback (most recent call last)",
      "Cell \u001b[0;32mIn[2], line 7\u001b[0m\n\u001b[1;32m      3\u001b[0m ba\u001b[38;5;241m.\u001b[39mget_cube()\n\u001b[1;32m      5\u001b[0m ba\u001b[38;5;241m.\u001b[39mread_cube()\n\u001b[0;32m----> 7\u001b[0m \u001b[43mba\u001b[49m\u001b[38;5;241;43m.\u001b[39;49m\u001b[43mvisualize_cube\u001b[49m\u001b[43m(\u001b[49m\u001b[43m)\u001b[49m\n\u001b[1;32m      9\u001b[0m ba\u001b[38;5;241m.\u001b[39mblur_cube()\n",
      "File \u001b[0;32m~/HYPSO-1/blur.py:178\u001b[0m, in \u001b[0;36mblurCube.visualize_cube\u001b[0;34m(self)\u001b[0m\n\u001b[1;32m    176\u001b[0m horizontal_lines \u001b[38;5;241m=\u001b[39m []\n\u001b[1;32m    177\u001b[0m \u001b[38;5;28;01mfor\u001b[39;00m line \u001b[38;5;129;01min\u001b[39;00m lines:\n\u001b[0;32m--> 178\u001b[0m     x1, y1, x2, y2 \u001b[38;5;241m=\u001b[39m line\n\u001b[1;32m    179\u001b[0m     length \u001b[38;5;241m=\u001b[39m np\u001b[38;5;241m.\u001b[39msqrt((x2 \u001b[38;5;241m-\u001b[39m x1)\u001b[38;5;241m*\u001b[39m\u001b[38;5;241m*\u001b[39m\u001b[38;5;241m2\u001b[39m \u001b[38;5;241m+\u001b[39m (y2 \u001b[38;5;241m-\u001b[39m y1)\u001b[38;5;241m*\u001b[39m\u001b[38;5;241m*\u001b[39m\u001b[38;5;241m2\u001b[39m)\n\u001b[1;32m    180\u001b[0m     \u001b[38;5;28;01mif\u001b[39;00m y1 \u001b[38;5;241m==\u001b[39m y2 \u001b[38;5;129;01mand\u001b[39;00m \u001b[38;5;241m10\u001b[39m \u001b[38;5;241m<\u001b[39m\u001b[38;5;241m=\u001b[39m length \u001b[38;5;241m<\u001b[39m\u001b[38;5;241m=\u001b[39m \u001b[38;5;241m30\u001b[39m:  \u001b[38;5;66;03m# Horizontal line with length between 15 and 30\u001b[39;00m\n",
      "\u001b[0;31mValueError\u001b[0m: not enough values to unpack (expected 4, got 1)"
     ]
    }
   ],
   "source": [
    "ba = blur.blurCube()\n",
    "\n",
    "ba.get_cube()\n",
    "\n",
    "ba.read_cube()\n",
    "\n",
    "ba.visualize_cube()\n",
    "\n",
    "ba.blur_cube()\n"
   ]
  },
  {
   "cell_type": "code",
   "execution_count": null,
   "metadata": {},
   "outputs": [],
   "source": []
  },
  {
   "cell_type": "code",
   "execution_count": null,
   "metadata": {},
   "outputs": [],
   "source": []
  },
  {
   "cell_type": "code",
   "execution_count": null,
   "metadata": {},
   "outputs": [],
   "source": []
  }
 ],
 "metadata": {
  "kernelspec": {
   "display_name": "finalfinal",
   "language": "python",
   "name": "finalfinal"
  },
  "language_info": {
   "codemirror_mode": {
    "name": "ipython",
    "version": 3
   },
   "file_extension": ".py",
   "mimetype": "text/x-python",
   "name": "python",
   "nbconvert_exporter": "python",
   "pygments_lexer": "ipython3",
   "version": "3.11.0"
  }
 },
 "nbformat": 4,
 "nbformat_minor": 2
}
