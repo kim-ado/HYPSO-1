{
 "cells": [
  {
   "cell_type": "code",
   "execution_count": null,
   "id": "3d8d28ae",
   "metadata": {},
   "outputs": [],
   "source": [
    "import os\n",
    "\n",
    "from plotly.subplots import make_subplots\n",
    "import plotly.graph_objects as go\n",
    "import plotly.express as px\n",
    "\n",
    "from PIL import Image\n",
    "\n",
    "import pickle\n",
    "import numpy as np\n",
    "\n",
    "import sharp\n",
    "import h1data\n",
    "import bq"
   ]
  },
  {
   "cell_type": "code",
   "execution_count": null,
   "id": "1264a63d",
   "metadata": {},
   "outputs": [],
   "source": [
    "fname = \"data/20230106_CaptureDL_melbourne_2023_01_06T23_50_06\"\n",
    "#fname = \"data/20221010_CaptureDL_tampa_2022_10_08T15_39_46\"\n",
    "#fname = \"data/20221027_CaptureDL_bangladesh_2022_10_26T04_02_54\"\n",
    "#fname = \"data/20221205_CaptureDL_florida_2022_12_02T15_16_12\"\n",
    "h = h1data.h1data(fname)"
   ]
  },
  {
   "cell_type": "code",
   "execution_count": null,
   "id": "fd09e415",
   "metadata": {},
   "outputs": [],
   "source": [
    "a = h1data.get_rgb_matrix(h)\n",
    "b = h1data.get_rgb_matrix(h,True)"
   ]
  },
  {
   "cell_type": "code",
   "execution_count": null,
   "id": "d9d3c1cd",
   "metadata": {},
   "outputs": [],
   "source": [
    "px.imshow(a)"
   ]
  },
  {
   "cell_type": "code",
   "execution_count": null,
   "id": "f844e354",
   "metadata": {},
   "outputs": [],
   "source": [
    "px.imshow(b)"
   ]
  },
  {
   "cell_type": "code",
   "execution_count": null,
   "id": "f43e54ee",
   "metadata": {},
   "outputs": [],
   "source": [
    "from PIL import Image\n",
    "\n",
    "# Create overlay image\n",
    "wl = h.wavelengths\n",
    "\n",
    "def is_water(spectra,wl,treshold = 2.4):\n",
    "    #Empirical super simple water classifier\n",
    "    C1 = np.argmin(abs(wl-460))\n",
    "    C2 = np.argmin(abs(wl-650))\n",
    "    return spectra[C1]/spectra[C2] > treshold\n",
    "\n",
    "def get_is_water_map(cube,wl):\n",
    "    C1 = np.argmin(abs(wl-460))\n",
    "    C2 = np.argmin(abs(wl-650))\n",
    "    ret = np.zeros([cube.shape[0], cube.shape[1]])\n",
    "    for xx in range(cube.shape[0]):\n",
    "        for yy in range(cube.shape[1]):\n",
    "            spectra = cube[xx,yy,:]\n",
    "            ret[xx,yy] = spectra[C1]/spectra[C2]\n",
    "    return ret\n",
    "    \n",
    "\n",
    "def oc6_pace(cube,wl, treshold = 1):\n",
    "    # From https://doi.org/10.1016/j.rse.2019.04.021\n",
    "    \n",
    "    result = np.zeros([cube.shape[0],cube.shape[1]])\n",
    "    \n",
    "    # Iitialize coefficients\n",
    "    c = np.array([\n",
    "        0.94297, -3.18493, 2.33682, -1.23923, 0.18697\n",
    "    ])\n",
    "    \n",
    "    def get_chl_a(spectra, wl):\n",
    "        # Find blue\n",
    "        MBR_b = np.max([\n",
    "            spectra[np.argmin(abs(wl-443))],\n",
    "            spectra[np.argmin(abs(wl-490))],\n",
    "            spectra[np.argmin(abs(wl-510))],\n",
    "        ])\n",
    "    \n",
    "        # Find Green(red) \n",
    "        MBR_g = np.mean([\n",
    "            spectra[np.argmin(abs(wl-555))],\n",
    "            spectra[np.argmin(abs(wl-678))],\n",
    "        ])\n",
    "        \n",
    "        X = MBR_b / MBR_g\n",
    "        \n",
    "        log_res = 0\n",
    "        for i in range(len(c)):\n",
    "            log_res += c[i]*X**i\n",
    "        \n",
    "        return 10**(log_res)\n",
    "    \n",
    "    # Iterate through cube\n",
    "    for xx in range(b.shape[0]):\n",
    "        for yy in range(b.shape[1]):\n",
    "            spectra = cube[xx,yy,:]\n",
    "                \n",
    "            if not is_water(spectra,wl):\n",
    "                result[xx,yy] = 0;\n",
    "            else:\n",
    "                r = get_chl_a(spectra,wl)\n",
    "                if r > treshold:\n",
    "                    result[xx,yy] = r\n",
    "                else:\n",
    "                    result[xx,yy] = 0\n",
    "    return result"
   ]
  },
  {
   "cell_type": "code",
   "execution_count": null,
   "id": "127a379b",
   "metadata": {},
   "outputs": [],
   "source": [
    "r = get_is_water_map(h.l1a_cube,wl)\n",
    "px.imshow(r)"
   ]
  },
  {
   "cell_type": "code",
   "execution_count": null,
   "id": "af3c69ca",
   "metadata": {},
   "outputs": [],
   "source": [
    "result = oc6_pace(h.l1a_cube,wl, treshold = 0)"
   ]
  },
  {
   "cell_type": "code",
   "execution_count": null,
   "id": "895ab0b3",
   "metadata": {},
   "outputs": [],
   "source": [
    "temp = np.zeros([b.shape[0], b.shape[1], 3])\n",
    "temp[:,:,1] = result\n",
    "alpha = 255*0.81\n",
    "c = b + alpha*temp"
   ]
  },
  {
   "cell_type": "code",
   "execution_count": null,
   "id": "75cfc42a",
   "metadata": {},
   "outputs": [],
   "source": [
    "Image.fromarray(np.asarray(c*255,dtype=np.uint8)).save(\"taj_chl.png\")"
   ]
  },
  {
   "cell_type": "code",
   "execution_count": null,
   "id": "a9ab1e97",
   "metadata": {},
   "outputs": [],
   "source": [
    "Image.fromarray(np.asarray(b*255,dtype=np.uint8)).save(\"taj_before.png\")"
   ]
  },
  {
   "cell_type": "code",
   "execution_count": null,
   "id": "66b42e4b",
   "metadata": {},
   "outputs": [],
   "source": []
  }
 ],
 "metadata": {
  "kernelspec": {
   "display_name": "Python 3 (ipykernel)",
   "language": "python",
   "name": "python3"
  },
  "language_info": {
   "codemirror_mode": {
    "name": "ipython",
    "version": 3
   },
   "file_extension": ".py",
   "mimetype": "text/x-python",
   "name": "python",
   "nbconvert_exporter": "python",
   "pygments_lexer": "ipython3",
   "version": "3.9.15"
  }
 },
 "nbformat": 4,
 "nbformat_minor": 5
}
